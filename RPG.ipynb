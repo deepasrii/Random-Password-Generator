{
 "cells": [
  {
   "cell_type": "code",
   "execution_count": null,
   "id": "2d7f374e",
   "metadata": {},
   "outputs": [],
   "source": [
    "import random\n",
    "import string"
   ]
  },
  {
   "cell_type": "code",
   "execution_count": null,
   "id": "9173fa14",
   "metadata": {},
   "outputs": [],
   "source": [
    "length = int(input(\"Enter the length of password: \"))\n",
    "\n",
    "lower = string.ascii_lowercase\n",
    "upper = string.ascii_uppercase\n",
    "number = string.digits\n",
    "symbols = string.punctuation\n",
    "\n",
    "all = lower + upper + number + symbols\n",
    "\n",
    "result = random.sample(all,length)\n",
    "\n",
    "password = \"\".join(result)\n",
    "\n",
    "print(password)"
   ]
  }
 ],
 "metadata": {
  "kernelspec": {
   "display_name": "Python 3 (ipykernel)",
   "language": "python",
   "name": "python3"
  },
  "language_info": {
   "codemirror_mode": {
    "name": "ipython",
    "version": 3
   },
   "file_extension": ".py",
   "mimetype": "text/x-python",
   "name": "python",
   "nbconvert_exporter": "python",
   "pygments_lexer": "ipython3",
   "version": "3.9.7"
  }
 },
 "nbformat": 4,
 "nbformat_minor": 5
}
